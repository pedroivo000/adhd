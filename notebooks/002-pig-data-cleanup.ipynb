{
 "nbformat": 4,
 "nbformat_minor": 2,
 "metadata": {
  "language_info": {
   "name": "python",
   "codemirror_mode": {
    "name": "ipython",
    "version": 3
   },
   "version": "3.8.1-final"
  },
  "orig_nbformat": 2,
  "file_extension": ".py",
  "mimetype": "text/x-python",
  "name": "python",
  "npconvert_exporter": "python",
  "pygments_lexer": "ipython3",
  "version": 3,
  "kernelspec": {
   "name": "python38164bitadhdvirtualenv046002f8b1984abca39e2d297b2c897e",
   "display_name": "Python 3.8.1 64-bit ('adhd': virtualenv)"
  }
 },
 "cells": [
  {
   "cell_type": "markdown",
   "execution_count": null,
   "metadata": {},
   "outputs": [],
   "source": [
    "# Data Clean-up"
   ]
  },
  {
   "cell_type": "code",
   "execution_count": 1,
   "metadata": {},
   "outputs": [],
   "source": [
    "import logging\n",
    "import pandas as pd\n",
    "from sys import getsizeof\n",
    "\n",
    "# pd.options.display.max_rows = 4000"
   ]
  },
  {
   "cell_type": "code",
   "execution_count": 4,
   "metadata": {},
   "outputs": [],
   "source": [
    "#Configure logging \n",
    "logger = logging.getLogger(__name__)\n",
    "logger.setLevel(logging.DEBUG)"
   ]
  },
  {
   "cell_type": "code",
   "execution_count": 5,
   "metadata": {},
   "outputs": [],
   "source": [
    "# Read pickle\n",
    "try:\n",
    "    records = pd.read_pickle(\"../data/interim/records.pkl\")\n",
    "except Exception as e: \n",
    "    logging.exception(\"Can't open data pickle!\")\n"
   ]
  },
  {
   "cell_type": "code",
   "execution_count": 6,
   "metadata": {},
   "outputs": [
    {
     "name": "stdout",
     "output_type": "stream",
     "text": "<class 'pandas.core.frame.DataFrame'>\nInt64Index: 1182572 entries, 0 to 1234999\nColumns: 110 entries, all_awardings to user_reports\ndtypes: bool(1), float64(32), int64(4), object(73)\nmemory usage: 993.6+ MB\n"
    }
   ],
   "source": [
    "records.info()"
   ]
  },
  {
   "cell_type": "code",
   "execution_count": 7,
   "metadata": {},
   "outputs": [
    {
     "data": {
      "text/plain": "all_awardings                     object\nassociated_award                 float64\nauthor                            object\nauthor_flair_background_color     object\nauthor_flair_css_class            object\n                                  ...   \napproved_at_utc                  float64\nbanned_at_utc                    float64\nview_count                       float64\nmod_reports                       object\nuser_reports                      object\nLength: 110, dtype: object"
     },
     "execution_count": 7,
     "metadata": {},
     "output_type": "execute_result"
    }
   ],
   "source": [
    "records.dtypes"
   ]
  },
  {
   "cell_type": "markdown",
   "execution_count": null,
   "metadata": {},
   "outputs": [],
   "source": [
    "## Remove deleted and removed records\n",
    "\n",
    "Let's remove records with no `selftext` or that have the \"\\[removed\\]\" and \"\\[deleted\\]\" tags:\n"
   ]
  },
  {
   "cell_type": "code",
   "execution_count": 8,
   "metadata": {},
   "outputs": [],
   "source": [
    "records = records[~records[\"selftext\"].str.contains(\"\\[removed\\]|\\[deleted\\]|^$\", case=False, regex=True, na=False)]\n",
    "records = records[~records[\"body\"].str.contains(\"\\[removed\\]|\\[deleted\\]|^$\", case=False, regex=True, na=False)]\n"
   ]
  },
  {
   "cell_type": "code",
   "execution_count": 9,
   "metadata": {},
   "outputs": [
    {
     "name": "stdout",
     "output_type": "stream",
     "text": "<class 'pandas.core.frame.DataFrame'>\nInt64Index: 1182572 entries, 0 to 1234999\nColumns: 110 entries, all_awardings to user_reports\ndtypes: bool(1), float64(32), int64(4), object(73)\nmemory usage: 993.6+ MB\n"
    }
   ],
   "source": [
    "records.info()"
   ]
  },
  {
   "cell_type": "code",
   "execution_count": 0,
   "metadata": {},
   "outputs": [],
   "source": [
    "records.to_pickle(\"../data/interim/records.pkl\")"
   ]
  },
  {
   "cell_type": "markdown",
   "execution_count": null,
   "metadata": {},
   "outputs": [],
   "source": [
    "## Saving only interesting columns to a pickled dataframe: "
   ]
  },
  {
   "cell_type": "code",
   "execution_count": 18,
   "metadata": {},
   "outputs": [
    {
     "name": "stderr",
     "output_type": "stream",
     "text": "<ipython-input-18-af252fa181eb>:19: SettingWithCopyWarning: \nA value is trying to be set on a copy of a slice from a DataFrame.\nTry using .loc[row_indexer,col_indexer] = value instead\n\nSee the caveats in the documentation: https://pandas.pydata.org/pandas-docs/stable/user_guide/indexing.html#returning-a-view-versus-a-copy\n  df[\"body\"] = df[\"body\"].combine_first(df[\"selftext\"])\n/c/Users/pedro/.virtualenvs/adhd/lib/python3.8/site-packages/pandas/core/frame.py:3990: SettingWithCopyWarning: \nA value is trying to be set on a copy of a slice from a DataFrame\n\nSee the caveats in the documentation: https://pandas.pydata.org/pandas-docs/stable/user_guide/indexing.html#returning-a-view-versus-a-copy\n  return super().drop(\n"
    }
   ],
   "source": [
    "df = records[\n",
    "        [\n",
    "            \"author\",\n",
    "            \"body\",\n",
    "            \"created_utc\",\n",
    "            \"id\",\n",
    "            \"retrieved_on\",\n",
    "            \"updated_utc\",\n",
    "            \"full_link\",\n",
    "            \"score\",\n",
    "            \"num_comments\",\n",
    "            \"selftext\",\n",
    "            \"title\",\n",
    "            \"record\",\n",
    "        ]\n",
    "    ]\n",
    "\n",
    "# Merge body and selftext columns into one, replacing nas:    \n",
    "df[\"body\"] = df[\"body\"].combine_first(df[\"selftext\"])\n",
    "df.drop(\"selftext\", axis=1, inplace = True)"
   ]
  },
  {
   "cell_type": "code",
   "execution_count": 19,
   "metadata": {},
   "outputs": [
    {
     "data": {
      "text/html": "<div>\n<style scoped>\n    .dataframe tbody tr th:only-of-type {\n        vertical-align: middle;\n    }\n\n    .dataframe tbody tr th {\n        vertical-align: top;\n    }\n\n    .dataframe thead th {\n        text-align: right;\n    }\n</style>\n<table border=\"1\" class=\"dataframe\">\n  <thead>\n    <tr style=\"text-align: right;\">\n      <th></th>\n      <th>author</th>\n      <th>body</th>\n      <th>created_utc</th>\n      <th>id</th>\n      <th>retrieved_on</th>\n      <th>updated_utc</th>\n      <th>full_link</th>\n      <th>score</th>\n      <th>num_comments</th>\n      <th>title</th>\n      <th>record</th>\n    </tr>\n  </thead>\n  <tbody>\n    <tr>\n      <th>0</th>\n      <td>MrsCare2Share</td>\n      <td>We use a point system like the one recommended...</td>\n      <td>1580940674</td>\n      <td>fgna9j3</td>\n      <td>1580942818</td>\n      <td>NaN</td>\n      <td>NaN</td>\n      <td>1</td>\n      <td>NaN</td>\n      <td>NaN</td>\n      <td>comment</td>\n    </tr>\n    <tr>\n      <th>1</th>\n      <td>ADHDkitty</td>\n      <td>Damn guys, I didn’t mean to make it go this fa...</td>\n      <td>1580940617</td>\n      <td>fgna5wx</td>\n      <td>1580942757</td>\n      <td>NaN</td>\n      <td>NaN</td>\n      <td>1</td>\n      <td>NaN</td>\n      <td>NaN</td>\n      <td>comment</td>\n    </tr>\n    <tr>\n      <th>2</th>\n      <td>blackmedusa941</td>\n      <td>No problem. Good luck 👍🏾</td>\n      <td>1580940580</td>\n      <td>fgna3kr</td>\n      <td>1580942716</td>\n      <td>NaN</td>\n      <td>NaN</td>\n      <td>1</td>\n      <td>NaN</td>\n      <td>NaN</td>\n      <td>comment</td>\n    </tr>\n    <tr>\n      <th>3</th>\n      <td>tofutak7000</td>\n      <td>I had this experience before being diagnosed. ...</td>\n      <td>1580940537</td>\n      <td>fgna0u8</td>\n      <td>1580942671</td>\n      <td>NaN</td>\n      <td>NaN</td>\n      <td>2</td>\n      <td>NaN</td>\n      <td>NaN</td>\n      <td>comment</td>\n    </tr>\n    <tr>\n      <th>4</th>\n      <td>Middle_Raccoon</td>\n      <td>Yes, both of them, undiagnosed at the time and...</td>\n      <td>1580940526</td>\n      <td>fgna072</td>\n      <td>1580942661</td>\n      <td>NaN</td>\n      <td>NaN</td>\n      <td>2</td>\n      <td>NaN</td>\n      <td>NaN</td>\n      <td>comment</td>\n    </tr>\n  </tbody>\n</table>\n</div>",
      "text/plain": "           author                                               body  \\\n0   MrsCare2Share  We use a point system like the one recommended...   \n1       ADHDkitty  Damn guys, I didn’t mean to make it go this fa...   \n2  blackmedusa941                           No problem. Good luck 👍🏾   \n3     tofutak7000  I had this experience before being diagnosed. ...   \n4  Middle_Raccoon  Yes, both of them, undiagnosed at the time and...   \n\n   created_utc       id  retrieved_on  updated_utc full_link  score  \\\n0   1580940674  fgna9j3    1580942818          NaN       NaN      1   \n1   1580940617  fgna5wx    1580942757          NaN       NaN      1   \n2   1580940580  fgna3kr    1580942716          NaN       NaN      1   \n3   1580940537  fgna0u8    1580942671          NaN       NaN      2   \n4   1580940526  fgna072    1580942661          NaN       NaN      2   \n\n   num_comments title   record  \n0           NaN   NaN  comment  \n1           NaN   NaN  comment  \n2           NaN   NaN  comment  \n3           NaN   NaN  comment  \n4           NaN   NaN  comment  "
     },
     "execution_count": 19,
     "metadata": {},
     "output_type": "execute_result"
    }
   ],
   "source": [
    "df.head()"
   ]
  },
  {
   "cell_type": "code",
   "execution_count": 20,
   "metadata": {},
   "outputs": [],
   "source": [
    "df.to_pickle(\"../data/interim/records_clean.pkl\")"
   ]
  },
  {
   "cell_type": "code",
   "execution_count": 0,
   "metadata": {},
   "outputs": [],
   "source": [
    "df.info()"
   ]
  },
  {
   "cell_type": "code",
   "execution_count": null,
   "metadata": {},
   "outputs": [],
   "source": []
  }
 ]
}