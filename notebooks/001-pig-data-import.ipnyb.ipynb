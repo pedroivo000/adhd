{
 "nbformat": 4,
 "nbformat_minor": 2,
 "metadata": {
  "language_info": {
   "name": "python",
   "codemirror_mode": {
    "name": "ipython",
    "version": 3
   },
   "version": "3.8.1-final"
  },
  "orig_nbformat": 2,
  "file_extension": ".py",
  "mimetype": "text/x-python",
  "name": "python",
  "npconvert_exporter": "python",
  "pygments_lexer": "ipython3",
  "version": 3,
  "kernelspec": {
   "name": "python38164bitadhdvirtualenv046002f8b1984abca39e2d297b2c897e",
   "display_name": "Python 3.8.1 64-bit ('adhd': virtualenv)"
  }
 },
 "cells": [
  {
   "cell_type": "markdown",
   "execution_count": null,
   "metadata": {},
   "outputs": [],
   "source": [
    "# File Import\n",
    "\n",
    "The raw JSON files with posts and comments made to the r/ADHD subreddit are stored in a S3 bucket as a .tar.gz archive name `radhd.tar.gz`. We will use the `boto3` package to get the data:  "
   ]
  },
  {
   "cell_type": "code",
   "execution_count": 2,
   "metadata": {},
   "outputs": [],
   "source": [
    "import boto3\n",
    "import botocore\n",
    "import pandas as pd\n",
    "from glob import glob\n",
    "\n",
    "\n",
    "BUCKET_NAME = \"radhd-records\"\n",
    "file = \"radhd.tar.gz\"\n",
    "\n",
    "s3 = boto3.resource(\"s3\")\n",
    "\n",
    "try:\n",
    "    s3.Bucket(BUCKET_NAME).download_file(file, \"../data/raw/adhd_records.tar.gz\")\n",
    "except botocore.exceptions.ClientError as e:\n",
    "    if e.response['Error']['Code'] == \"404\":\n",
    "        print(\"The object does not exist.\")\n",
    "    else:\n",
    "        raise "
   ]
  },
  {
   "cell_type": "markdown",
   "execution_count": null,
   "metadata": {},
   "outputs": [],
   "source": [
    "After decompressing the .tar.gz, we can import the JSON files into a pandas dataframe:"
   ]
  },
  {
   "cell_type": "code",
   "execution_count": null,
   "metadata": {},
   "outputs": [],
   "source": [
    "records = pd.DataFrame()\n",
    "\n",
    "for file in glob(\"../data/raw/*json\"):\n",
    "    print(file)\n",
    "\n",
    "    df = pd.read_json(file, orient=\"records\")\n",
    "    df[\"record\"] = \"post\" if \"posts\" in file else \"comment\"\n",
    "\n",
    "    records = records.append(df, ignore_index=True, sort=False)\n",
    "\n",
    "\n"
   ]
  }
 ]
}